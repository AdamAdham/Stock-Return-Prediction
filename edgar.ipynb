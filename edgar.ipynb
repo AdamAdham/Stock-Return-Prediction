{
 "cells": [
  {
   "cell_type": "code",
   "execution_count": 2,
   "metadata": {},
   "outputs": [],
   "source": [
    "import os\n",
    "import json\n",
    "from src.utils.json_io import read_json\n",
    "\n",
    "from src.utils.json_io import load_all_stocks\n",
    "from src.config.settings import RAW_DIR, METADATA_DIR"
   ]
  },
  {
   "cell_type": "code",
   "execution_count": 3,
   "metadata": {},
   "outputs": [
    {
     "name": "stdout",
     "output_type": "stream",
     "text": [
      "2321\n",
      "['AACQU', 'AAQC-UN', 'AAQC-WT', 'AAQC', 'AAQCW', 'AAWW', 'ABGI', 'ABMD', 'ABR-PB', 'ABR-PC', 'ABTX', 'ACBI', 'ACC', 'ACDI-UN', 'ACDI', 'ACEV', 'ACEVU', 'ACEVW', 'ACGLP', 'ACII-UN', 'ACII-WT', 'ACII', 'ACKIT', 'ACKIU', 'ACKIW', 'ACMC', 'ACMSY', 'ACQR', 'ACQRU', 'ACQRW', 'ACTD', 'ACTDU', 'ACTDW', 'ACY', 'ACZT', 'ADF', 'ADGI', 'ADOM', 'ADRA-UN', 'ADRA-WT', 'ADRA', 'ADRT-WT', 'ADS', 'ADXSD', 'AEAC', 'AEACU', 'AEACW', 'AEHA', 'AERC', 'AESE', 'AFACU', 'AFACW', 'AFAM', 'AFAQ', 'AFAQU', 'AFAQW', 'AFHBL', 'AFHIQ', 'AFI', 'AFIN', 'AFINO', 'AFINP', 'AFTC', 'AGAC-WT', 'AGBAR', 'AGBAU', 'AGC', 'AGCB', 'AGCUU', 'AGFS', 'AGGR', 'AGGRU', 'AGGRW', 'AGHC', 'AGTC', 'AHAC', 'AHACU', 'AHC', 'AHPA', 'AHPAU', 'AHPAW', 'AIKI', 'AIMC', 'AIRTW', 'AIW', 'AIXND', 'AJAX-UN', 'AJAX', 'AKIC', 'AKICU', 'AKICW', 'AKUS', 'ALAC', 'ALACR', 'ALACU', 'ALACW', 'ALFIW', 'ALL-PG', 'ALNA', 'ALOHA', 'ALP-PQ', 'ALPVN', 'ALPX', 'ALR', 'ALRT', 'ALSK', 'ALTA', 'ALTGF', 'ALUS', 'ALXN', 'AMCI', 'AMCIU', 'AMCIW', 'AMH-PE', 'AMH-PF', 'AMHC', 'AMHCU', 'AMHCW', 'AMOV', 'AMOVF', 'AMPI-UN', 'AMPI-WT', 'AMPI', 'AMPS-WT', 'AMRB', 'AMRR', 'AMSIY', 'AMTBB', 'AMXVF', 'ANAC-UN', 'ANAC-WT', 'ANAC', 'ANAT', 'ANAV', 'ANDA', 'ANDAR', 'ANDAU', 'ANDAW', 'ANTM', 'AOIX', 'AONE', 'APEN', 'APN-UN', 'APN-WT', 'APN', 'APO-PB', 'APOPW', 'APR', 'APRCP', 'APRDM', 'APRDN', 'APRDO', 'APRDP', 'APSG-UN', 'APSG', 'APTS', 'APXT', 'APXTU', 'APXTW', 'AQSP', 'ARCK', 'ARCKU', 'ARCKW', 'ARD', 'ARES-PA', 'ARGS', 'ARGU', 'ARGUU', 'ARGUW', 'ARIA', 'ARMT', 'ARSN', 'ARTAU', 'ASAQ-UN', 'ASAQ-WT', 'ASAQ', 'ASAX', 'ASAXU', 'ASAXW', 'ASDN', 'ASEPF', 'ASLEW', 'ASPCW', 'ASSF', 'ASZ-UN', 'ASZ-WT', 'ASZ', 'ASZP', 'ATA-UN', 'ATA-WT', 'ATA', 'ATAX', 'ATC', 'ATCO', 'ATH', 'ATHLL', 'ATMR', 'ATRS', 'ATSPT', 'ATSPU', 'ATSPW', 'ATVC', 'ATVCU', 'ATVCW', 'ATY', 'AUS-UN', 'AUS-WT', 'AUS', 'AUSCF', 'AUTO', 'AUY', 'AVAN-UN', 'AVAN-WT', 'AVAN', 'AVCO', 'AVCT', 'AVCTW', 'AVGOP', 'AVHOQ', 'AVLR', 'AVMR', 'AVTR-PA', 'AVYA', 'AVYAW', 'AXH', 'AXU', 'BACA-UN', 'BACA-WT', 'BAMH', 'BAMI', 'BANC-PE', 'BASX', 'BBI', 'BBL', 'BBQ', 'BCAC', 'BCACU', 'BCACW', 'BCEI', 'BCOR', 'BCTG', 'BCYP', 'BCYPU', 'BCYPW', 'BDGY', 'BDIC', 'BDR', 'BDSI', 'BELP', 'BENE', 'BENER', 'BENEU', 'BENEW', 'BFAGY', 'BFRA', 'BGEPF', 'BGSX-UN', 'BGSX-WT', 'BGSX', 'BHSE', 'BHSEU', 'BHSEW', 'BHTG', 'BIGN', 'BIOT', 'BIOTU', 'BIOTW', 'BKEP', 'BKEPP', 'BLAB', 'BLCT', 'BLGI', 'BLI', 'BLL', 'BLNKW', 'BLSA', 'BLTS', 'BLTSU', 'BLTSW', 'BLUW', 'BLUWU', 'BLUWW', 'BMEXF', 'BMIX', 'BMTC', 'BNFT', 'BNIXU', 'BOAS-UN', 'BOAS-WT', 'BOAS', 'BOCH', 'BOKFL', 'BOMN', 'BOWX', 'BOWXU', 'BOXD-WT', 'BOXD', 'BPFH', 'BPMP', 'BPSR', 'BPYU', 'BPYUP', 'BRCN', 'BRG-PC', 'BRG-PD', 'BRG', 'BRKS', 'BRMK-WT', 'BRMT', 'BRPM', 'BRPMU', 'BRQSW', 'BSA', 'BSGA', 'BSGAR', 'BSGAU', 'BSKY', 'BSKYU', 'BSKYW', 'BSN-UN', 'BSN', 'BTAQ', 'BTAQU', 'BTEGF', 'BTHE', 'BTN', 'BTNB', 'BTRS', 'BWL-A', 'BXXY', 'BYLG', 'CADMD', 'CADMF', 'CAHC', 'CAHCW', 'CAI', 'CAJ', 'CATM', 'CATN', 'CBAH', 'CBB', 'CBLEQ', 'CBLI', 'CBMB', 'CBPI', 'CBTX', 'CCAC-UN', 'CCAC', 'CCIV', 'CCMP', 'CCNC', 'CCRC', 'CCYC', 'CDAK', 'CDEV', 'CDK', 'CDMOP', 'CDOR', 'CEA', 'CEAI', 'CECE', 'CELP', 'CENH', 'CENHW', 'CENQ', 'CENQU', 'CENQW', 'CEO', 'CERN', 'CFACU', 'CFFVW', 'CFV', 'CFVI', 'CFVIU', 'CFVIW', 'CFX', 'CFXA', 'CHAA-UN', 'CHAA-WT', 'CHAQ', 'CHFW-UN', 'CHMA', 'CHMT', 'CHNG', 'CHPM', 'CHPMU', 'CHPMW', 'CHWA', 'CHWAU', 'CHWAW', 'CIAN', 'CIH', 'CINR', 'CIT-PB', 'CIT', 'CIXX', 'CLAA-UN', 'CLAA-WT', 'CLAA', 'CLAQ', 'CLAQR', 'CLAQU', 'CLAQW', 'CLAS-UN', 'CLAS-WT', 'CLAS', 'CLBS', 'CLCN', 'CLDB', 'CLI', 'CLII', 'CLIM-UN', 'CLIM-WT', 'CLIM', 'CLIMW', 'CLNC', 'CLNH', 'CLNY', 'CLOK', 'CLR', 'CLRM', 'CLRMU', 'CLRMW', 'CLSN', 'CLUBQ', 'CLWD', 'CMCTP', 'CMII', 'CMIIU', 'CMIIW', 'CMLF', 'CMLFU', 'CMLT', 'CMLTU', 'CMO', 'CMPI', 'CNBKA', 'CNCG', 'CND-UN', 'CND-WT', 'CND', 'CNIG', 'CNIGO', 'CNIGP', 'CNP-PB', 'CNST', 'CNTQ', 'CNTQU', 'CNTQW', 'CNVY', 'COG', 'COLI', 'COLIU', 'COLIW', 'CONE', 'CORI', 'COUP', 'COVA', 'COVAU', 'COVAW', 'COWN', 'COWNL', 'CPAQ', 'CPAQU', 'CPAQW', 'CPAR', 'CPARU', 'CPARW', 'CPLG', 'CPSR', 'CPTK-WT', 'CRCL', 'CREE', 'CRGS', 'CRHC-UN', 'CRHC-WT', 'CRHC', 'CRHUF', 'CRHWF', 'CRRCF', 'CRSA', 'CRSAU', 'CRSAW', 'CRU-UN', 'CRU-WT', 'CRU', 'CRUBW', 'CRXT', 'CRXTQ', 'CRXWQ', 'CRY', 'CRZN', 'CRZNU', 'CRZNW', 'CSCW', 'CSLT', 'CSOD', 'CSPR', 'CSU', 'CTAC-UN', 'CTAC', 'CTAQ', 'CTAQU', 'CTAQW', 'CTEK', 'CTK', 'CTT', 'CTXRW', 'CTXS', 'CVA', 'CVET', 'CVUA', 'CWGRP', 'CWRK', 'CXDC', 'CXKJ', 'CXP', 'CYBE', 'CYRN', 'CYTR', 'CZNI', 'DAOO', 'DAOOU', 'DBDR', 'DBDRU', 'DCGOW', 'DCRBU', 'DCRC', 'DCRCU', 'DCRCW', 'DCRD', 'DCRDU', 'DCRDW', 'DCRN', 'DCRNU', 'DCRNW', 'DCT', 'DCUE', 'DDAIF', 'DDMX', 'DDMXU', 'DDMXW', 'DEH', 'DENR', 'DESTQ', 'DFNS', 'DFPH', 'DFPHU', 'DFPHW', 'DGNR', 'DGNS', 'DGNU', 'DHBC', 'DHBCU', 'DHBCW', 'DHHCU', 'DHHCW', 'DHR-PA', 'DHR-PB', 'DIDI', 'DILA', 'DILAU', 'DILAW', 'DIRV', 'DISCA', 'DISCB', 'DISCK', 'DIVVZ', 'DKMR', 'DLCA', 'DLCAU', 'DLCAW', 'DMLRY', 'DMYI-UN', 'DMYI', 'DMYS-UN', 'DMYS-WT', 'DMYS', 'DNAA', 'DNAC', 'DNAY', 'DNZ-UN', 'DNZ-WT', 'DNZ', 'DPDW', 'DPW', 'DRAY', 'DRAYU', 'DRAYW', 'DRE', 'DS-PB', 'DS-PC', 'DS-PD', 'DS', 'DSAC', 'DSACU', 'DSAQ-WT', 'DSCI', 'DSKEW', 'DSOX', 'DSPG', 'DSRO', 'DSSI', 'DTEA', 'DTJ', 'DTP', 'DTRC', 'DTRT', 'DTRTU', 'DTRTW', 'DVCR', 'DVD', 'DWIN-UN', 'DWIN-WT', 'DWIN', 'DYNS', 'EARS', 'EBAC', 'EBACU', 'EBACW', 'EBSB', 'ECHO', 'ECOL', 'ECOLW', 'ECOM', 'ECRP', 'ECTE', 'EDNCU', 'EDNCW', 'EJFA', 'EJFAW', 'ELAT', 'ELMS', 'ELVT', 'ELY', 'EMCF', 'EMHTF', 'EMMAW', 'EMPR', 'EMWP', 'ENBA', 'ENBBF', 'ENBL', 'ENCUF', 'ENFA', 'ENFAU', 'ENFAW', 'ENIA', 'ENIAY', 'ENJWQ', 'ENJY', 'ENJYQ', 'ENNV', 'ENNVU', 'ENNVW', 'ENPC-UN', 'ENPC-WT', 'ENPC', 'ENR-PA', 'ENRFF', 'ENVI', 'ENVIU', 'ENVIW', 'EPAY', 'EPHY', 'EPHYU', 'EPHYW', 'EPWR', 'EPZM', 'EQD-UN', 'EQD', 'EQHA-UN', 'EQHA-WT', 'EQHA', 'EQOS', 'ESGC', 'ESIO', 'ESM-UN', 'ESM-WT', 'ESM', 'ESND', 'ESPI', 'ESPID', 'ESSC', 'ESSCR', 'ESSCU', 'ESSCW', 'ETAC', 'ETACU', 'ETTX', 'EUSG', 'EUSGU', 'EUSGW', 'EVCC', 'EVK', 'EVOJU', 'EVOP', 'EVTN', 'EWST', 'EXAC', 'EXDI', 'EXFO', 'EXN', 'EXTN', 'EYES', 'EYESW', 'FACA-UN', 'FACA-WT', 'FACA', 'FAII-UN', 'FAII', 'FBC', 'FBHS', 'FCAC', 'FCACU', 'FCAX-UN', 'FCAX-WT', 'FCAX', 'FCBP', 'FCCY', 'FCHL', 'FDLB', 'FEYE', 'FFHL', 'FGNA', 'FHAI', 'FHS', 'FHTF', 'FIND', 'FINM', 'FINMU', 'FINMW', 'FIPWV', 'FLAC', 'FLACU', 'FLACW', 'FLDM', 'FLMN', 'FLMNW', 'FLXN', 'FLY', 'FLYA-UN', 'FLYA-WT', 'FLYA', 'FMAC-UN', 'FMAC', 'FMBI', 'FMBIO', 'FMBIP', 'FMI', 'FMTX', 'FNHC', 'FOE', 'FORE', 'FOREW', 'FOXW', 'FOXWU', 'FOXWW', 'FPAC-UN', 'FPAC-WT', 'FPAC', 'FPVD', 'FRFRD', 'FRON', 'FRONU', 'FRONW', 'FRSG', 'FRSGU', 'FRSGW', 'FRTA', 'FRTM', 'FRW', 'FRWAU', 'FRWAW', 'FRX-UN', 'FRX', 'FSII', 'FSNB-WT', 'FSPR', 'FSRD', 'FSRDQ', 'FSRDW', 'FSRWQ', 'FSSI', 'FSSIU', 'FSSIW', 'FST-UN', 'FST', 'FSTX', 'FTAA', 'FTAAU', 'FTAAW', 'FTAI-PA', 'FTAI-PB', 'FTAI-PC', 'FTCV', 'FTCVU', 'FTCVW', 'FTEV-UN', 'FTEV-WT', 'FTEV', 'FTHWF', 'FTIV', 'FTIVU', 'FTMR', 'FTMRQ', 'FTOC', 'FTOCU', 'FTPA', 'FTPAU', 'FTPAW', 'FTRP', 'FTSI', 'FTV-PA', 'FTVI', 'FTVIU', 'FTVIW', 'FUSE-UN', 'FUSE', 'FVAM', 'FVE', 'FVIV-UN', 'FVIV-WT', 'FVIV', 'FVT-UN', 'FVT-WT', 'FVT', 'FVTAW', 'FWAA', 'FWAV', 'FWP', 'GACQ', 'GACQU', 'GACQW', 'GAEGF', 'GAPA-UN', 'GAPA-WT', 'GAPA', 'GBBT', 'GBL', 'GBS', 'GBT', 'GCAC', 'GCACU', 'GCACW', 'GCP', 'GDP', 'GDYNW', 'GEHCV', 'GENH', 'GFED', 'GFLU', 'GFNCP', 'GFTX', 'GGGV', 'GGGVR', 'GGMC', 'GGMCU', 'GGMCW', 'GGPI', 'GGPIU', 'GGPIW', 'GHAC', 'GHACU', 'GHACW', 'GHMP', 'GHVI', 'GHVIU', 'GIA-UN', 'GIA-WT', 'GIAC', 'GIACU', 'GIACW', 'GIIX', 'GIIXU', 'GIIXW', 'GIW', 'GIWWU', 'GIWWW', 'GJCU', 'GLAQ', 'GLAQU', 'GLBD', 'GLBLU', 'GLBLW', 'GLEE', 'GLEEU', 'GLEEW', 'GLEO', 'GLHA', 'GLHAU', 'GLHAW', 'GLS-WT', 'GLS', 'GLSPT', 'GLSPU', 'GLSPW', 'GMBT', 'GMBTU', 'GMBTW', 'GMII', 'GMIIU', 'GMIIW', 'GMTX', 'GMVP', 'GNAC', 'GNACU', 'GNACW', 'GNBT', 'GNPK-UN', 'GNTW', 'GNVC', 'GOAC-UN', 'GOAC', 'GOBI', 'GOED', 'GOFF', 'GOODM', 'GPCO', 'GPCOW', 'GPL', 'GPX', 'GRAZ', 'GRCYU', 'GRFXY', 'GRMWF', 'GRNV', 'GRNVR', 'GRNVU', 'GRNVW', 'GRRB', 'GRRBP', 'GRSVU', 'GRUB', 'GRVI', 'GSAH-UN', 'GSAH', 'GSAQ', 'GSAQU', 'GSAQW', 'GSEV', 'GSEVU', 'GSEVW', 'GSHN', 'GSKY', 'GSLD', 'GSQD-UN', 'GSQD-WT', 'GSQD', 'GSQDW', 'GSS', 'GSV', 'GTPA', 'GTPAU', 'GTPAW', 'GTPB', 'GTPBU', 'GTPBW', 'GTS', 'GTT', 'GTTN', 'GTTNQ', 'GTXO', 'GTYH', 'GVBT', 'GVCIU', 'GWAC', 'GWB', 'GWGH', 'GWII', 'GXGX', 'GXGXU', 'GXGXW', 'GXII', 'GXIIU', 'GXIIW', 'GZCC', 'HAAC', 'HAACU', 'HAACW', 'HAPP', 'HBANN', 'HBANO', 'HBMD', 'HBP', 'HCAR', 'HCARU', 'HCARW', 'HCCC', 'HCCCU', 'HCCCW', 'HCHC', 'HCIC', 'HCICU', 'HCICW', 'HCII', 'HCIIU', 'HCIIW', 'HECCU', 'HECCW', 'HERA', 'HERAU', 'HERAW', 'HFC', 'HGH', 'HGSH', 'HIGA-UN', 'HIGA-WT', 'HIGA', 'HIII', 'HIIIU', 'HIIIW', 'HIL', 'HJLI', 'HJLIW', 'HKIB', 'HLAH', 'HLAHU', 'HLAHW', 'HLBYL', 'HLBZ', 'HLBZW', 'HLG', 'HLXA', 'HMCO', 'HMCOU', 'HMCOW', 'HMG', 'HMHC', 'HMLP-PA', 'HMLP', 'HMTV', 'HNGR', 'HNP', 'HOL', 'HOLUU', 'HOME', 'HORI', 'HORIU', 'HORIW', 'HPX-UN', 'HPX-WT', 'HPX', 'HRAA', 'HRC', 'HRTH', 'HRVSF', 'HSAQ', 'HSBI', 'HTA', 'HTAQ-UN', 'HTAQ-WT', 'HTAQ', 'HTBX', 'HTPA-UN', 'HTPA-WT', 'HTPA', 'HUGS-UN', 'HUGS-WT', 'HUGS', 'HUGSW', 'HUSN', 'HVBT', 'HWCC', 'HX', 'HXOH', 'HYACU', 'HYACW', 'HYMCZ', 'HYRE', 'HZAC', 'HZN', 'HZON-UN', 'HZON-WT', 'IAA', 'IACA', 'IACC', 'IAIC', 'IBAL', 'IBER-UN', 'IBER-WT', 'IBER', 'IEA', 'IEAWW', 'IFFT', 'IFNY', 'IGAC', 'IGACU', 'IGACW', 'IGAP', 'IGNY', 'IGNYU', 'IGNYW', 'IHC', 'IIAC-UN', 'IIAC', 'IIII', 'IIIIU', 'IIIIW', 'IIN', 'IIVIP', 'IKNX', 'IMAC', 'IMDS', 'IMPHO', 'IMPHP', 'IMPX-WT', 'IMPX', 'IMRNW', 'INAQ-WT', 'INBKL', 'INKA', 'INKAU', 'INKAW', 'INKI', 'INS', 'INTEQ', 'IO', 'IOGPQ', 'IOTC', 'IPAX', 'IPAXU', 'IPAXW', 'IPLDP', 'IPOD-UN', 'IPOD-WT', 'IPOD', 'IPOF-UN', 'IPOF-WT', 'IPOF', 'IPVA-UN', 'IPVA-WT', 'IPVA', 'IPXL', 'IRCC', 'IRCP', 'IS', 'ISAA', 'ISBC', 'ISLE', 'ISLEW', 'ISNS', 'ISO', 'ISR', 'ITAC', 'ITACU', 'ITDN', 'ITEGY', 'ITHX', 'ITHXU', 'ITHXW', 'ITMR', 'ITPOF', 'ITQ', 'ITQRU', 'ITQRW', 'IVAN', 'IVC', 'IVR-PA', 'JATT-UN', 'JATT-WT', 'JATT', 'JCIC', 'JCICU', 'JCICW', 'JCOM', 'JCS', 'JE', 'JENGQ', 'JMAC', 'JMACU', 'JMACW', 'JMKJ', 'JMP', 'JMPNZ', 'JNP', 'JOBS', 'JOFF', 'JOFFU', 'JOFFW', 'JP', 'JRJC', 'JRVS', 'JSBL', 'JUNO', 'JW-A', 'JW-B', 'JYAC', 'KAHC-UN', 'KAHC-WT', 'KAHC', 'KAII', 'KAIIU', 'KAIIW', 'KAIR', 'KAIRU', 'KAIRW', 'KAL', 'KALWW', 'KBPH', 'KBRS', 'KBSF', 'KCA-UN', 'KCAC-UN', 'KCAC-WT', 'KIII', 'KIIIU', 'KIIIW', 'KIN', 'KINZ', 'KINZU', 'KINZW', 'KL', 'KLAQ', 'KLAQU', 'KLAQW', 'KMPH', 'KNBE', 'KOR', 'KPAY', 'KRA', 'KSHB', 'KSI', 'KSICU', 'KSICW', 'KSMT', 'KSMTU', 'KSU-P', 'KSU', 'KURI', 'KURIW', 'KVSB', 'KWAC-UN', 'KWEMF', 'LAAA', 'LAAAU', 'LAAAW', 'LACQ', 'LACQU', 'LACQW', 'LAIX', 'LAIXY', 'LATN', 'LATNU', 'LATNW', 'LAWS', 'LAX', 'LAXXR', 'LAXXW', 'LAZYW', 'LBAO', 'LCAP', 'LCAPU', 'LCAPW', 'LCY', 'LCYAU', 'LDHA', 'LDHAU', 'LDHAW', 'LEAP-UN', 'LEAP', 'LEGA', 'LEGAU', 'LEGAW', 'LEGO', 'LEGOU', 'LEGOW', 'LEGX', 'LEVL', 'LEVLP', 'LFC', 'LFG', 'LFTR', 'LFTRU', 'LFTRW', 'LGAC', 'LGACU', 'LGACW', 'LGTO', 'LGTOU', 'LGTOW', 'LGV-UN', 'LGV-WT', 'LGV', 'LHAA', 'LHC-WT', 'LHCG', 'LHDX', 'LHIL', 'LIACF', 'LINX', 'LIONU', 'LIONW', 'LIVK', 'LIVKU', 'LIVKW', 'LIVX', 'LJAQ', 'LJAQU', 'LJAQW', 'LJPC', 'LLL', 'LLNW', 'LMACA', 'LMACU', 'LMACW', 'LMAO', 'LMAOU', 'LMAOW', 'LMNX', 'LMRK', 'LMRKN', 'LMRKO', 'LMRKP', 'LNDC', 'LNDDS', 'LNFA-UN', 'LNFA-WT', 'LNFA', 'LOGX', 'LOKB', 'LOKM-UN', 'LOKM-WT', 'LOKM', 'LONE', 'LORL', 'LOTZ', 'LOTZW', 'LOVA', 'LPI', 'LSAQ', 'LSFP', 'LSPR', 'LSPRU', 'LSPRW', 'LSYN', 'LTMAQ', 'LUB', 'LUXA', 'LUXAU', 'LUXAW', 'LVRA', 'LVRAU', 'LVRAW', 'LWAC', 'LWACU', 'LWACW', 'LWEL', 'LXXGF', 'LYL', 'LYLT', 'MAAC', 'MAACU', 'MAAQ', 'MAAQR', 'MAAQU', 'MAAQW', 'MACC-UN', 'MACC-WT', 'MACC', 'MACQ', 'MACQU', 'MACQW', 'MACU', 'MACUU', 'MANT', 'MBII', 'MBT', 'MCAD', 'MCADR', 'MCADU', 'MCAE', 'MCAER', 'MCAEU', 'MCF', 'MCFE', 'MCFUF', 'MCG', 'MCMJ', 'MCMJW', 'MDCA', 'MDH-UN', 'MDH-WT', 'MDH', 'MDHAW', 'MDLA', 'MDLY', 'MDP', 'MEAC', 'MEACU', 'MEACW', 'MEUSW', 'MFGP', 'MFNC', 'MGLN', 'MGN', 'MGP', 'MH-PA', 'MH-PC', 'MH-PD', 'MIC', 'MICCF', 'MILE', 'MILEW', 'MILOF', 'MIME', 'MIT-UN', 'MIT-WT', 'MIT', 'MITC', 'MKD', 'MKTWW', 'MKTY', 'MLAI', 'MLAIU', 'MLHR', 'MLND', 'MMAC', 'MMTLP', 'MMX', 'MN', 'MNDT', 'MNKKQ', 'MNKPF', 'MNR-PC', 'MNRL', 'MOHO', 'MON', 'MONCU', 'MONCW', 'MONDW', 'MOST', 'MOSY', 'MOTNU', 'MOTV-UN', 'MOTV', 'MPAC', 'MPACR', 'MPACU', 'MPACW', 'MRAC', 'MRACW', 'MRLN', 'MSAC', 'MSACW', 'MSCC', 'MSDA', 'MSDAU', 'MSDAW', 'MSGN', 'MSLP', 'MSON', 'MSP', 'MSRT', 'MTBC', 'MTBCO', 'MTBCP', 'MTGE', 'MTL', 'MTMT', 'MTOR', 'MTP', 'MTRS', 'MTSL', 'MTWD', 'MUDS', 'MUDSU', 'MUDSW', 'MVEN', 'MXIM', 'MYOV', 'MYSN', 'MYT', 'MYTG', 'NAAC', 'NAACU', 'NAACW', 'NAKD', 'NANN', 'NAV', 'NAVA', 'NBA-WT', 'NBLD', 'NCBS', 'NDAC', 'NDACU', 'NDACW', 'NDRAW', 'NDVN', 'NEBCU', 'NEE-PP', 'NEIK', 'NES', 'NETE', 'NEW', 'NEWA', 'NFH', 'NGAC', 'NGACU', 'NGC-UN', 'NGC-WT', 'NGC', 'NGCA', 'NGCAU', 'NGCAW', 'NHLE', 'NILE-PD', 'NILE', 'NIOBF', 'NJMC', 'NLIT', 'NLITU', 'NLITW', 'NLOK', 'NLSN', 'NMMC', 'NMMCU', 'NMMCW', 'NNN-PF', 'NOAC', 'NOACU', 'NOACW', 'NORZF', 'NP', 'NPTN', 'NRZ-PA', 'NRZ-PB', 'NRZ-PC', 'NRZ-PD', 'NRZ', 'NSEC', 'NSH-UN', 'NSH', 'NSR', 'NSTC-WT', 'NTEC', 'NTOX', 'NTP', 'NTUS', 'NTWN', 'NUAN', 'NUTR', 'NUVG', 'NVCN', 'NVGI', 'NVSA', 'NVSAU', 'NVSAW', 'NVTSW', 'NWHM', 'NXTD', 'NYMTO', 'NYMTP', 'OA', 'OACB-UN', 'OACB', 'OAS', 'OBAS', 'OBCI', 'OBELF', 'OBLN', 'OBMP', 'OBTX', 'OCA-UN', 'OCA', 'OCDX', 'OEG', 'OEPW', 'OEPWU', 'OEPWW', 'OFG-PD', 'OG', 'OHPA', 'OHPAU', 'OHPAW', 'OIBR-C', 'OIIM', 'OMEG', 'OMP', 'OMPS', 'ONE', 'ONEM', 'OPNT', 'ORBC', 'OREX', 'ORNC', 'ORPH', 'ORPHY', 'OSAT', 'OSMT', 'OSN', 'OSTBP', 'OSTKO', 'OSTR', 'OSTRU', 'OSTRW', 'OTIVF', 'OTLKW', 'OTRA', 'OTRAU', 'PACE-UN', 'PACE', 'PACX', 'PACXU', 'PACXW', 'PAE', 'PAEWW', 'PAFO', 'PAFOR', 'PAFOU', 'PAIC', 'PAICU', 'PAQC', 'PAQCU', 'PAQCW', 'PAVMW', 'PAYA', 'PBCT', 'PBCTP', 'PBFX', 'PBIP', 'PCOM', 'PCPC-UN', 'PCPC-WT', 'PCPC', 'PCPCW', 'PCSB', 'PCX', 'PCXCU', 'PDAC', 'PDOT-UN', 'PDOT-WT', 'PDOT', 'PDRDY', 'PEB-PD', 'PEI-PB', 'PEI-PC', 'PEI-PD', 'PEI', 'PEYE', 'PFBI', 'PFDR', 'PFDRU', 'PFDRW', 'PFHC', 'PFHD', 'PFPT', 'PGLO', 'PHBR', 'PHCF', 'PHIC', 'PHICU', 'PHICW', 'PHIOW', 'PICC-UN', 'PICC-WT', 'PING', 'PIPP-UN', 'PIPP-WT', 'PIPP', 'PLAN', 'PLIN', 'PLXP', 'PMBC', 'PME', 'PMVC-UN', 'PMVC-WT', 'PMVC', 'PNC-PP', 'POETF', 'POLY', 'POND-UN', 'POND-WT', 'POND', 'PONO', 'PONOU', 'PONOW', 'POSH', 'POW', 'POWRU', 'POWRW', 'PPD', 'PPGH', 'PPGHU', 'PPGHW', 'PQG', 'PRBM-UN', 'PRBM-WT', 'PRBMW', 'PRLX', 'PROG', 'PROS', 'PRPB-UN', 'PRPB', 'PRTHW', 'PRTM', 'PRTY', 'PSAC', 'PSACU', 'PSAG', 'PSAGU', 'PSAGW', 'PSB-PX', 'PSB-PY', 'PSB-PZ', 'PSB', 'PSTH', 'PSXP', 'PTIC', 'PTICU', 'PTICW', 'PTNR', 'PTOC', 'PTOCU', 'PTOCW', 'PTR', 'PV-UN', 'PV-WT', 'PV', 'PVAC', 'PVG', 'PWPPW', 'PWVI', 'PZN', 'QADA', 'QADB', 'QBAN', 'QEGY', 'QELL', 'QELLU', 'QFTA-WT', 'QHYG', 'QK', 'QNGY-WT', 'QNGY', 'QNGYW', 'QSMG', 'QTNT', 'QTRRF', 'QTS-PA', 'QTS-PB', 'QTS', 'QTT', 'QUMU', 'RAAC', 'RAACU', 'RAACW', 'RACA', 'RACB', 'RADA', 'RAM', 'RAMMU', 'RAMMW', 'RAVN', 'RBAC-UN', 'RBAC', 'RBNC', 'RCCC', 'RCHG', 'RCHGU', 'RCHGW', 'RCII', 'RCOR', 'RDBX', 'RDBXW', 'RDS-A', 'REBL', 'REDU', 'REEAW', 'REGI', 'REPH', 'RESN', 'REV', 'REVBU', 'REVH', 'REVHU', 'REVHW', 'RFP', 'RHNO', 'RICE-UN', 'RICE', 'RICO', 'RICOU', 'RILYH', 'RILYI', 'RIVE', 'RJAC-WT', 'RJF-PA', 'RKLY-WT', 'RKLY', 'RKTA', 'RLGY', 'RMES', 'RMGBU', 'RMGN', 'RMNIW', 'RMO', 'RMRM', 'RNDB', 'RNR-PE', 'RNVAW', 'RNWK', 'ROCR', 'ROCRU', 'ROCRW', 'ROLL', 'ROT', 'RRD', 'RSSKS', 'RTLR', 'RTOKY', 'RTP', 'RTPY', 'RTPYU', 'RTTO', 'RVAC', 'RVACU', 'RVACW', 'RVI', 'RVIC', 'RXN', 'RXRA', 'RXRAU', 'RXRAW', 'RYB', 'RZA', 'SAFM', 'SAII', 'SAIIU', 'SANB', 'SANBU', 'SANBW', 'SBBP', 'SBEA', 'SBEAU', 'SBEAW', 'SBII-UN', 'SBII-WT', 'SBII', 'SBLKZ', 'SBNYP', 'SBTX', 'SC', 'SCLE', 'SCLEU', 'SCLEW', 'SCMA', 'SCMAU', 'SCMAW', 'SCOA', 'SCOAU', 'SCOAW', 'SCOB', 'SCOBU', 'SCOBW', 'SCPE', 'SCR', 'SCTY', 'SCVX-UN', 'SCVX', 'SDH', 'SDRDW', 'SDRLF', 'SDRWW', 'SEAH', 'SESN', 'SFET', 'SFOR', 'SFTW', 'SFUN', 'SGAMU', 'SGFY', 'SGLB', 'SGLBW', 'SGMS', 'SGOC', 'SGSI', 'SHAC', 'SHACU', 'SHACW', 'SHCA', 'SHCAU', 'SHI', 'SHIIY', 'SHIPW', 'SHIPZ', 'SHLX', 'SHNL', 'SHQA', 'SHQAU', 'SHQAW', 'SHSP', 'SIAF', 'SIC', 'SIER', 'SIERU', 'SIERW', 'SIGN', 'SIMP', 'SINO', 'SIVB', 'SIVBP', 'SJI', 'SJIJ', 'SJIV', 'SJR', 'SJRWF', 'SLAC-UN', 'SLAC-WT', 'SLBG', 'SLCR', 'SLCRU', 'SLCRW', 'SLCT', 'SLHG', 'SLHGP', 'SMDM', 'SMED', 'SMFR', 'SMFRW', 'SMIH', 'SMIHU', 'SMIHW', 'SMPR', 'SMTS', 'SNGXW', 'SNNY', 'SNP', 'SNPR', 'SNPTY', 'SOAC-UN', 'SOAC', 'SOAN', 'SODR', 'SOFIW', 'SOGO', 'SOLN', 'SOLY', 'SOV', 'SPAQ-UN', 'SPFR-UN', 'SPFR', 'SPGS-UN', 'SPGS-WT', 'SPGS', 'SPGSW', 'SPHS', 'SPIR-WT', 'SPK', 'SPKAR', 'SPKAU', 'SPKB', 'SPKBU', 'SPKBW', 'SPKE', 'SPKEP', 'SPNE', 'SPNV-UN', 'SPNV', 'SPRJ', 'SPRT', 'SPTK', 'SPTKU', 'SPTKW', 'SQBG', 'SQBGQ', 'SRAC', 'SRACU', 'SRACW', 'SREV', 'SRLP', 'SRNA', 'SRNG', 'SRNGU', 'SRNGW', 'SRRA', 'SRSA', 'SRSAU', 'SRSAW', 'SSAA', 'SSAAU', 'SSAAW', 'SSDT', 'SSHI', 'SSPCF', 'SSPK', 'SSPKW', 'STAR-PD', 'STAR-PG', 'STAR-PI', 'STAR', 'STAY', 'STDY', 'STFC', 'STL-PA', 'STL', 'STON', 'STOR', 'STPC', 'STRE-UN', 'STRE-WT', 'STRE', 'STRN', 'STRNW', 'STRY-WT', 'STRY', 'STWO', 'STWOU', 'STXB', 'STZ-B', 'SUMR', 'SV', 'SVAC', 'SVACU', 'SVBI', 'SVFA', 'SVFAU', 'SVFAW', 'SVFB', 'SVFC', 'SVNAU', 'SVNAW', 'SVOK', 'SVOKW', 'SVU', 'SWAGU', 'SWBK', 'SWCH', 'SWET', 'SWETU', 'SWETW', 'SWIR', 'SWM', 'SWMAF', 'SWMAY', 'SWT', 'SYKE', 'SYN', 'SYNL', 'SYTE', 'SYX', 'TACA-UN', 'TACA', 'TACO', 'TBK', 'TBKCP', 'TBSA', 'TBSAU', 'TBSAW', 'TCAC', 'TCACU', 'TCACW', 'TCBIL', 'TCCR', 'TCDA', 'TCFF', 'TCVA', 'TDA', 'TEKK', 'TEKKU', 'TEKKW', 'TETC', 'TETCU', 'TETCW', 'TEUM', 'TGA', 'TGP', 'THAC', 'THACU', 'THACW', 'THCA', 'THCAU', 'THCAW', 'THCB', 'THCBU', 'THCBW', 'THCC', 'THMA', 'THMAW', 'TIGOR', 'TIKRF', 'TINV-UN', 'TINV-WT', 'TINV', 'TLC', 'TLFA', 'TLGA-WT', 'TLGT', 'TLGTQ', 'TLMD', 'TLMDW', 'TLND', 'TMAC-UN', 'TMAC-WT', 'TMAC', 'TMDI', 'TMIN', 'TMPM', 'TMPMU', 'TMPMW', 'TMTS', 'TMTSU', 'TMX', 'TOGL', 'TPBA', 'TPBAU', 'TPCO', 'TPGY-UN', 'TPGY-WT', 'TPGY', 'TREB', 'TREC', 'TRIL', 'TRIT', 'TRMT', 'TRNF', 'TRNX', 'TRQ', 'TRRB', 'TRTC', 'TSC', 'TSCAP', 'TSCBP', 'TSIB', 'TSIBU', 'TSIBW', 'TSPQ-UN', 'TSPQ-WT', 'TSPQ', 'TSRO', 'TTM', 'TUEM', 'TUFN', 'TUGC', 'TUGCU', 'TUGCW', 'TVAC', 'TVACU', 'TVACW', 'TVTY', 'TWCT', 'TWCTU', 'TWND-UN', 'TWND-WT', 'TWND', 'TWNI-UN', 'TWNI-WT', 'TWNI', 'TWNIF', 'TWNKW', 'TWTR', 'TWX', 'TXCB', 'TYHT', 'TYME', 'TZPS', 'TZPSU', 'TZPSW', 'UBEOY', 'UEPS', 'UFS', 'UGHL', 'UHALB', 'UMH-PC', 'UMPQ', 'UNEX', 'UOLI', 'USAK', 'USCR', 'USER', 'USWS', 'USWSW', 'UWHGF', 'UZA', 'UZC', 'VACQ', 'VACQU', 'VBIO', 'VCKA', 'VCKAU', 'VCKAW', 'VCRA', 'VCVCU', 'VEC', 'VEDL', 'VELO', 'VELOU', 'VELOW', 'VENA', 'VENAR', 'VENAU', 'VENAW', 'VENV', 'VER-PF', 'VER', 'VGAC', 'VGFC', 'VIAC', 'VIACA', 'VIACP', 'VIH', 'VIHAU', 'VIHDD', 'VINCU', 'VIVO', 'VLDI', 'VLDR', 'VLDRW', 'VLNS', 'VLTA-WT', 'VLTA', 'VMAC', 'VMACU', 'VMCS', 'VNE', 'VONI', 'VOSO', 'VOSOU', 'VOSOW', 'VPCB', 'VPCBU', 'VPCBW', 'VRS', 'VRTY', 'VSAR', 'VSYM', 'VTAQ', 'VTAQR', 'VTAQU', 'VTAQW', 'VTIQ', 'VTIQU', 'VTIQW', 'VVNT', 'VWTR', 'VXEL', 'VYGG-UN', 'VYGG-WT', 'VYGG', 'WALDU', 'WARR', 'WBEV', 'WBK', 'WBT', 'WCVC', 'WEBR', 'WECT', 'WEI', 'WETF', 'WISM', 'WIZD', 'WLL', 'WLTW', 'WOPEY', 'WORK', 'WPCA-UN', 'WPCA-WT', 'WPCA', 'WPCB-UN', 'WPCB-WT', 'WPCB', 'WPCBF', 'WPF', 'WPG', 'WQGA-UN', 'WQGA-WT', 'WQGA', 'WRI', 'WRMK', 'WSCC', 'WSCRF', 'WSFT', 'WSTG', 'WTCG', 'WTNW', 'WTREP', 'WTRH', 'WTRU', 'XELAU', 'XELAW', 'XENT', 'XL', 'XLNX', 'XLRM', 'XOG', 'XPDI', 'XPDIU', 'XPDIW', 'XPOA-UN', 'XPOA', 'XSPA', 'XSPT', 'XTEG', 'Y', 'YAC', 'YMTX', 'YSAC', 'YSACU', 'YTPG', 'ZEAL', 'ZEN', 'ZGYH', 'ZGYHR', 'ZGYHU', 'ZGYHW', 'ZIOP', 'ZIXI', 'ZME', 'ZNGA', 'ZNH', 'ZNRG', 'ZNTEU', 'ZSANQ', 'ZVO', 'ZWRK', 'ZWRKU', 'ZWRKW', 'ZXAIY', 'ZY', 'ZYQG', 'ZYRX']\n"
     ]
    }
   ],
   "source": [
    "stocks = load_all_stocks(RAW_DIR)\n",
    "no_market_cap = []\n",
    "no_market_cap_count = 0\n",
    "for stock in stocks:\n",
    "    if stock[\"market_cap\"] is None:\n",
    "        no_market_cap.append(stock[\"symbol\"])\n",
    "        no_market_cap_count+=1\n",
    "        \n",
    "print(no_market_cap_count)\n",
    "print(no_market_cap)"
   ]
  },
  {
   "cell_type": "code",
   "execution_count": 4,
   "metadata": {},
   "outputs": [
    {
     "ename": "TypeError",
     "evalue": "load_all_stocks() missing 1 required positional argument: 'path'",
     "output_type": "error",
     "traceback": [
      "\u001b[31m---------------------------------------------------------------------------\u001b[39m",
      "\u001b[31mTypeError\u001b[39m                                 Traceback (most recent call last)",
      "\u001b[36mCell\u001b[39m\u001b[36m \u001b[39m\u001b[32mIn[4]\u001b[39m\u001b[32m, line 1\u001b[39m\n\u001b[32m----> \u001b[39m\u001b[32m1\u001b[39m stocks = \u001b[43mload_all_stocks\u001b[49m\u001b[43m(\u001b[49m\u001b[43m)\u001b[49m\n\u001b[32m      2\u001b[39m eod_market_not_equal_dict = {}\n\u001b[32m      4\u001b[39m \u001b[38;5;28;01mfor\u001b[39;00m stock \u001b[38;5;129;01min\u001b[39;00m stocks:\n",
      "\u001b[31mTypeError\u001b[39m: load_all_stocks() missing 1 required positional argument: 'path'"
     ]
    }
   ],
   "source": [
    "stocks = load_all_stocks()\n",
    "eod_market_not_equal_dict = {}\n",
    "\n",
    "for stock in stocks:\n",
    "    print(stock[\"symbol\"])\n",
    "    eod = stock[\"eod\"]\n",
    "    cap = stock[\"market_cap\"]\n",
    "    if cap is None:\n",
    "        eod_market_not_equal_dict[stock[\"symbol\"]] = None\n",
    "    else:\n",
    "        cap_dates = set(entry[\"date\"] for entry in cap)\n",
    "        eod_dates = set(entry[\"date\"] for entry in eod)\n",
    "        in_eod_not_in_cap_dates = [entry[\"date\"] for entry in eod if entry[\"date\"] not in cap_dates]\n",
    "        in_cap_not_in_eod_dates = [entry[\"date\"] for entry in cap if entry[\"date\"] not in eod_dates]\n",
    "        eod_market_not_equal_dict[stock[\"symbol\"]] = {\"in_eod_not_in_cap_dates\": in_eod_not_in_cap_dates, \"in_cap_not_in_eod_dates\":in_cap_not_in_eod_dates}\n",
    "        \n",
    "eod_market_not_equal_dict"
   ]
  },
  {
   "cell_type": "code",
   "execution_count": null,
   "metadata": {},
   "outputs": [],
   "source": [
    "with open(METADATA / \"eod_cap_discrepancies.json\", 'w') as f_out:\n",
    "    json.dump(eod_market_not_equal_dict, f_out)"
   ]
  },
  {
   "cell_type": "code",
   "execution_count": null,
   "metadata": {},
   "outputs": [
    {
     "ename": "KeyError",
     "evalue": "'in_cap_not_in_eod_dates'",
     "output_type": "error",
     "traceback": [
      "\u001b[31m---------------------------------------------------------------------------\u001b[39m",
      "\u001b[31mKeyError\u001b[39m                                  Traceback (most recent call last)",
      "\u001b[36mCell\u001b[39m\u001b[36m \u001b[39m\u001b[32mIn[8]\u001b[39m\u001b[32m, line 4\u001b[39m\n\u001b[32m      2\u001b[39m in_cap_not_in_eod_dates_count = \u001b[32m0\u001b[39m\n\u001b[32m      3\u001b[39m \u001b[38;5;28;01mfor\u001b[39;00m symbol \u001b[38;5;129;01min\u001b[39;00m eod_market_not_equal_dict:\n\u001b[32m----> \u001b[39m\u001b[32m4\u001b[39m     in_cap_not_in_eod_dates = \u001b[43meod_market_not_equal_dict\u001b[49m\u001b[43m[\u001b[49m\u001b[33;43m\"\u001b[39;49m\u001b[33;43min_cap_not_in_eod_dates\u001b[39;49m\u001b[33;43m\"\u001b[39;49m\u001b[43m]\u001b[49m\n\u001b[32m      5\u001b[39m     in_eod_not_in_cap_dates = eod_market_not_equal_dict[\u001b[33m\"\u001b[39m\u001b[33min_eod_not_in_cap_dates\u001b[39m\u001b[33m\"\u001b[39m]\n\u001b[32m      6\u001b[39m     \u001b[38;5;28;01mif\u001b[39;00m \u001b[38;5;28mlen\u001b[39m(in_eod_not_in_cap_dates)>\u001b[32m0\u001b[39m:\n",
      "\u001b[31mKeyError\u001b[39m: 'in_cap_not_in_eod_dates'"
     ]
    }
   ],
   "source": [
    "in_eod_not_in_cap_dates_count = 0\n",
    "in_cap_not_in_eod_dates_count = 0\n",
    "for symbol in eod_market_not_equal_dict:\n",
    "    in_cap_not_in_eod_dates = eod_market_not_equal_dict[\"in_cap_not_in_eod_dates\"]\n",
    "    in_eod_not_in_cap_dates = eod_market_not_equal_dict[\"in_eod_not_in_cap_dates\"]\n",
    "    \n",
    "    if len(in_eod_not_in_cap_dates)>0:\n",
    "        in_eod_not_in_cap_dates_count+=1\n",
    "        \n",
    "    if  len(in_cap_not_in_eod_dates)>0:\n",
    "        in_cap_not_in_eod_dates_count+=1\n",
    "\n",
    "print(\"in_eod_not_in_cap_dates_count\", in_eod_not_in_cap_dates_count)\n",
    "print(\"in_cap_not_in_eod_dates_count\", in_cap_not_in_eod_dates_count)"
   ]
  },
  {
   "cell_type": "code",
   "execution_count": null,
   "metadata": {},
   "outputs": [],
   "source": [
    "stocks = load_all_stocks()\n",
    "symbols = set()\n",
    "for stock in stocks:\n",
    "    symbols.add(stock[\"symbol\"])"
   ]
  },
  {
   "cell_type": "code",
   "execution_count": null,
   "metadata": {},
   "outputs": [
    {
     "name": "stdout",
     "output_type": "stream",
     "text": [
      "13364\n"
     ]
    }
   ],
   "source": [
    "print(len(symbols))"
   ]
  },
  {
   "cell_type": "code",
   "execution_count": null,
   "metadata": {},
   "outputs": [],
   "source": [
    "from src.config.settings import REFERENCE_DIR\n",
    "stock_profiles_path = REFERENCE_DIR / \"stock_profiles.json\"\n",
    "stock_profiles = read_json(stock_profiles_path)"
   ]
  },
  {
   "cell_type": "code",
   "execution_count": null,
   "metadata": {},
   "outputs": [
    {
     "data": {
      "text/plain": [
       "['AMBC-WT',\n",
       " 'AXAC-RI',\n",
       " 'MIMO-WT',\n",
       " 'NICH',\n",
       " 'OPA-WT',\n",
       " 'PNTM-WT',\n",
       " 'PSPC-WT',\n",
       " 'TRAQ-WT']"
      ]
     },
     "execution_count": 17,
     "metadata": {},
     "output_type": "execute_result"
    }
   ],
   "source": [
    "missing_stocks = [stock[\"symbol\"] for stock in stock_profiles if stock[\"symbol\"] not in symbols]\n",
    "missing_stocks"
   ]
  },
  {
   "cell_type": "code",
   "execution_count": null,
   "metadata": {},
   "outputs": [],
   "source": [
    "from src.data_extraction.stock_info import get_stock_info"
   ]
  },
  {
   "cell_type": "code",
   "execution_count": null,
   "metadata": {},
   "outputs": [
    {
     "ename": "IndexError",
     "evalue": "list index out of range",
     "output_type": "error",
     "traceback": [
      "\u001b[31m---------------------------------------------------------------------------\u001b[39m",
      "\u001b[31mIndexError\u001b[39m                                Traceback (most recent call last)",
      "\u001b[36mCell\u001b[39m\u001b[36m \u001b[39m\u001b[32mIn[15]\u001b[39m\u001b[32m, line 1\u001b[39m\n\u001b[32m----> \u001b[39m\u001b[32m1\u001b[39m info = [\u001b[43mget_stock_info\u001b[49m\u001b[43m(\u001b[49m\u001b[43mstock\u001b[49m\u001b[43m)\u001b[49m \u001b[38;5;28;01mfor\u001b[39;00m stock \u001b[38;5;129;01min\u001b[39;00m missing_stocks]\n",
      "\u001b[36mFile \u001b[39m\u001b[32mc:\\HDD\\UNI\\Semester 8\\Project\\Data\\FMP\\Playground\\src\\data_extraction\\stock_info.py:127\u001b[39m, in \u001b[36mget_stock_info\u001b[39m\u001b[34m(stock)\u001b[39m\n\u001b[32m    124\u001b[39m stock_final[\u001b[33m\"\u001b[39m\u001b[33mmarket_cap\u001b[39m\u001b[33m\"\u001b[39m] = remove_duplicates_and_sort_by_date(market_cap)\n\u001b[32m    126\u001b[39m \u001b[38;5;66;03m# EOD sometimes has one more later date, so we just remove it\u001b[39;00m\n\u001b[32m--> \u001b[39m\u001b[32m127\u001b[39m \u001b[38;5;28;01mif\u001b[39;00m stock_final[\u001b[33m\"\u001b[39m\u001b[33mmarket_cap\u001b[39m\u001b[33m\"\u001b[39m][\u001b[32m0\u001b[39m][\u001b[33m\"\u001b[39m\u001b[33mdate\u001b[39m\u001b[33m\"\u001b[39m] != \u001b[43mstock_final\u001b[49m\u001b[43m[\u001b[49m\u001b[33;43m\"\u001b[39;49m\u001b[33;43meod\u001b[39;49m\u001b[33;43m\"\u001b[39;49m\u001b[43m]\u001b[49m\u001b[43m[\u001b[49m\u001b[32;43m0\u001b[39;49m\u001b[43m]\u001b[49m[\u001b[33m\"\u001b[39m\u001b[33mdate\u001b[39m\u001b[33m\"\u001b[39m]:\n\u001b[32m    128\u001b[39m     stock_final[\u001b[33m\"\u001b[39m\u001b[33meod\u001b[39m\u001b[33m\"\u001b[39m] = stock_final[\u001b[33m\"\u001b[39m\u001b[33meod\u001b[39m\u001b[33m\"\u001b[39m][\u001b[32m1\u001b[39m:]\n\u001b[32m    130\u001b[39m \u001b[38;5;66;03m# Calculate outstanding shares since FMP only supplies till 2021\u001b[39;00m\n\u001b[32m    131\u001b[39m \u001b[38;5;66;03m# using daily market cap / closing price\u001b[39;00m\n\u001b[32m    132\u001b[39m \u001b[38;5;66;03m# Round to nearest integer\u001b[39;00m\n",
      "\u001b[31mIndexError\u001b[39m: list index out of range"
     ]
    }
   ],
   "source": [
    "info = [get_stock_info(stock) for stock in missing_stocks]"
   ]
  },
  {
   "cell_type": "code",
   "execution_count": null,
   "metadata": {},
   "outputs": [
    {
     "ename": "OverflowError",
     "evalue": "cannot convert float infinity to integer",
     "output_type": "error",
     "traceback": [
      "\u001b[31m---------------------------------------------------------------------------\u001b[39m",
      "\u001b[31mOverflowError\u001b[39m                             Traceback (most recent call last)",
      "\u001b[36mCell\u001b[39m\u001b[36m \u001b[39m\u001b[32mIn[16]\u001b[39m\u001b[32m, line 1\u001b[39m\n\u001b[32m----> \u001b[39m\u001b[32m1\u001b[39m NICH_info = \u001b[43mget_stock_info\u001b[49m\u001b[43m(\u001b[49m\u001b[43mmissing_stocks\u001b[49m\u001b[43m[\u001b[49m\u001b[32;43m3\u001b[39;49m\u001b[43m]\u001b[49m\u001b[43m)\u001b[49m\n",
      "\u001b[36mFile \u001b[39m\u001b[32mc:\\HDD\\UNI\\Semester 8\\Project\\Data\\FMP\\Playground\\src\\data_extraction\\stock_info.py:134\u001b[39m, in \u001b[36mget_stock_info\u001b[39m\u001b[34m(stock)\u001b[39m\n\u001b[32m    128\u001b[39m     stock_final[\u001b[33m\"\u001b[39m\u001b[33meod\u001b[39m\u001b[33m\"\u001b[39m] = stock_final[\u001b[33m\"\u001b[39m\u001b[33meod\u001b[39m\u001b[33m\"\u001b[39m][\u001b[32m1\u001b[39m:]\n\u001b[32m    130\u001b[39m \u001b[38;5;66;03m# Calculate outstanding shares since FMP only supplies till 2021\u001b[39;00m\n\u001b[32m    131\u001b[39m \u001b[38;5;66;03m# using daily market cap / closing price\u001b[39;00m\n\u001b[32m    132\u001b[39m \u001b[38;5;66;03m# Round to nearest integer\u001b[39;00m\n\u001b[32m    133\u001b[39m stock_final[\u001b[33m\"\u001b[39m\u001b[33moutstanding_shares\u001b[39m\u001b[33m\"\u001b[39m] = {\n\u001b[32m--> \u001b[39m\u001b[32m134\u001b[39m     cap[\u001b[33m\"\u001b[39m\u001b[33mdate\u001b[39m\u001b[33m\"\u001b[39m]: \u001b[38;5;28;43mint\u001b[39;49m\u001b[43m(\u001b[49m\u001b[38;5;28;43mround\u001b[39;49m\u001b[43m(\u001b[49m\u001b[43mcap\u001b[49m\u001b[43m[\u001b[49m\u001b[33;43m\"\u001b[39;49m\u001b[33;43mmarketCap\u001b[39;49m\u001b[33;43m\"\u001b[39;49m\u001b[43m]\u001b[49m\u001b[43m \u001b[49m\u001b[43m/\u001b[49m\u001b[43m \u001b[49m\u001b[43mprice\u001b[49m\u001b[43m[\u001b[49m\u001b[33;43m\"\u001b[39;49m\u001b[33;43mprice\u001b[39;49m\u001b[33;43m\"\u001b[39;49m\u001b[43m]\u001b[49m\u001b[43m,\u001b[49m\u001b[43m \u001b[49m\u001b[32;43m0\u001b[39;49m\u001b[43m)\u001b[49m\u001b[43m)\u001b[49m\n\u001b[32m    135\u001b[39m     \u001b[38;5;28;01mfor\u001b[39;00m cap, price \u001b[38;5;129;01min\u001b[39;00m \u001b[38;5;28mzip\u001b[39m(stock_final[\u001b[33m\"\u001b[39m\u001b[33mmarket_cap\u001b[39m\u001b[33m\"\u001b[39m], stock_final[\u001b[33m\"\u001b[39m\u001b[33meod\u001b[39m\u001b[33m\"\u001b[39m])\n\u001b[32m    136\u001b[39m }\n\u001b[32m    138\u001b[39m \u001b[38;5;28;01mreturn\u001b[39;00m stock_final\n",
      "\u001b[31mOverflowError\u001b[39m: cannot convert float infinity to integer"
     ]
    }
   ],
   "source": [
    "NICH_info = get_stock_info(missing_stocks[3])"
   ]
  },
  {
   "cell_type": "code",
   "execution_count": null,
   "metadata": {},
   "outputs": [],
   "source": []
  }
 ],
 "metadata": {
  "kernelspec": {
   "display_name": "venv",
   "language": "python",
   "name": "python3"
  },
  "language_info": {
   "codemirror_mode": {
    "name": "ipython",
    "version": 3
   },
   "file_extension": ".py",
   "mimetype": "text/x-python",
   "name": "python",
   "nbconvert_exporter": "python",
   "pygments_lexer": "ipython3",
   "version": "3.12.4"
  }
 },
 "nbformat": 4,
 "nbformat_minor": 2
}
